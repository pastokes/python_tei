{
 "cells": [
  {
   "cell_type": "markdown",
   "metadata": {},
   "source": [
    "**By Peter A. Stokes, École Pratique des Hautes Études – Université PSL**\n",
    "\n",
    "_These are brief notes and exercises on working with TEI XML files using Python. They are intended as teaching aids for the course on 'Image Processing with Python' which is part of the Atelier de formation annuel du Consortium Cahier on the topic of 'Exploiter les corpus d'auteurs' in Poitiers, 18--20 June 2019. For more details see https://cahier.hypotheses.org/4662_\n",
    "\n",
    "These notes assume a good knowledge of TEI XML but assume **no experience or knowledge at all** in programming. This notebook also assumes that the [Python Imaging Library (PIL)](https://pythonware.com/products/pil/) has already been installed in your Python system.\n",
    "\n",
    "_If you are viewing this in Jupyter then you can edit the code simply by typing in the boxes. You can also execute the code in any box by clicking on the box and typing SHIFT + ENTER or using the 'Run' button in the menubar above._"
   ]
  },
  {
   "cell_type": "markdown",
   "metadata": {},
   "source": [
    "# Setting the Scene\n",
    "\n",
    "Although TEI XML is normally focussed on text, more and more Digital Scholarly Editions incorporate text and image together, often with close links between the two. There are very many examples of this, including the published version of Montaigne's _Essais_ that we have been working with in the last worksheet, the [_Proust Prototype_](http://research.cch.kcl.ac.uk/proust_prototype/) edition by Elena Pierazzo and Julie André, and many others. This combination of text and image is an area where Python gives significant advantages as there are many things that we can do here which are impossible with XSLT (and, indeed, difficult with many other programming languages). To give some examples, we've already seen our XML TEI document for _Les Essais_ de Michel de Montaigne, and we remember that each `<pb>` element has a `@facs` attribute which points to a digital image of that page. We can use Python to automatically harvest these images and manipulate them in different ways. For instance, we might want to recreate something like the [BVH text-image view](http://xtf.bvh.univ-tours.fr/xtf/view?docId=tei/B330636101_S1238/B330636101_S1238_tei.xml), with thumbnail images for each page. Alternatively, we might want to do some sort of analysis of the images, for instance looking at the ['manuscript average'](http://jessehurlbut.net/wp/mssart/?page_id=2097) of the page layout in the way that Jesse Hurlbut has done. In any case, we can use Python to automatically find, download, save and manipulate the images as well as the XML-encoded text that goes with it."
   ]
  },
  {
   "cell_type": "markdown",
   "metadata": {},
   "source": [
    "# The Python Imaging Library (PIL)\n",
    "\n",
    "The PIL gives us a lot of basic features for manipulating images. Here are some of the key ones. Remember that you must import the PIL library before you use the commands. We don't need the whole library, and it's relatively inefficient to import everything, so let's just import some parts. We will also need a couple of libraries to help us download images from the Internet, so let's import them as well."
   ]
  },
  {
   "cell_type": "code",
   "execution_count": null,
   "metadata": {},
   "outputs": [],
   "source": [
    "from PIL import Image\n",
    "from PIL import ImageOps\n",
    "from PIL import ImageChops\n",
    "\n",
    "import requests\n",
    "import io"
   ]
  },
  {
   "cell_type": "markdown",
   "metadata": {},
   "source": [
    "## Opening and saving image files; showing images\n",
    "\n",
    "To load and save images we need to tell Python where the image can be found. It's relatively easy to open a file which is already saved on our dis, but it's more interesting to download it directly from the internet.\n",
    "\n",
    "**Be careful when saving images as you can easily overwrite your data by mistake**. If you try to save an image and a file exists already at that path and with that file name then **Python will simply overwrite your existing file without even asking**."
   ]
  },
  {
   "cell_type": "code",
   "execution_count": null,
   "metadata": {},
   "outputs": [],
   "source": [
    "# Just use the first address for now\n",
    "im_addr = \"http://gallica.bnf.fr/ark:/12148/bpt6k11718168/f8.highres\"\n",
    "\n",
    "# Now we read the image. Don't worry how this works (it's complicated!), just remember that you can\n",
    "# copy and paste this to download the image stored at im_addr and keep it in the variable im for use with PIL.\n",
    "\n",
    "res = requests.get(im_addr)\n",
    "im = Image.open(io.BytesIO(res.content))\n",
    "                \n",
    "# Now we show the image\n",
    "im.show()\n",
    "\n",
    "# Let's save a copy of the image on your computer\n",
    "im.save('newimage.jpg')"
   ]
  },
  {
   "cell_type": "markdown",
   "metadata": {},
   "source": [
    "## Getting basic image information\n",
    "\n",
    "Now let's try getting some basic information about the image. You should be able to figure out how this works. Just remember that the image itself is stored in `im`, which is a PIL image, and this allows us to do certain things with it like the following:"
   ]
  },
  {
   "cell_type": "code",
   "execution_count": null,
   "metadata": {},
   "outputs": [],
   "source": [
    "print('Image size:', im.size)\n",
    "print('Image height:', im.height)\n",
    "print('Image width:', im.width)\n",
    "print('Image format', im.format)\n",
    "print('Image mode:', im.mode)\n",
    "print('Image info:', im.info)"
   ]
  },
  {
   "cell_type": "markdown",
   "metadata": {},
   "source": [
    "## Rotation and reflection\n",
    "\n",
    "**Note that each of these operations creates a new image**. We store the result in a new variable. This is (usually) what we want as that means we keep the original image; otherwise we could store the result in the original variable, overwriting the original image."
   ]
  },
  {
   "cell_type": "code",
   "execution_count": null,
   "metadata": {},
   "outputs": [],
   "source": [
    "# Flip - i.e. mirror vertically\n",
    "image_flipped = ImageOps.flip(im)\n",
    "image_flipped.show('Flipped image')\n",
    "\n",
    "# Mirror - i.e. mirror horizontally\n",
    "image_mirror = ImageOps.mirror(im)\n",
    "image_mirror.show('Mirrored image')\n",
    "\n",
    "# Rotate. NB that rotation is anticlockwise\n",
    "image_rotate1 = im.rotate(45)\n",
    "image_rotate2 = im.rotate(-45)\n",
    "image_rotate_nocrop = im.rotate(135, expand=True)\n",
    "\n",
    "image_rotate1.show()\n",
    "image_rotate2.show()\n",
    "image_rotate_nocrop.show()"
   ]
  },
  {
   "cell_type": "markdown",
   "metadata": {},
   "source": [
    "## Resizing Images\n",
    "\n",
    "This works much the same way, except that we have to specify the size of the new image. Note that this can cause very distorted images, unless we do the calculations to preserve the image ratio."
   ]
  },
  {
   "cell_type": "code",
   "execution_count": null,
   "metadata": {},
   "outputs": [],
   "source": [
    "size = 400, 200\n",
    "\n",
    "image_resized = im.resize(size)\n",
    "\n",
    "image_resized.show()\n",
    "\n",
    "# Let's do this properly, calculating the image ratio\n",
    "new_height = 400\n",
    "\n",
    "new_width = int((400 / im.height) * im.width)\n",
    "\n",
    "size2 = (new_width, new_height)\n",
    "image_resized2 = im.resize(size2)\n",
    "image_resized2.show()"
   ]
  },
  {
   "cell_type": "markdown",
   "metadata": {},
   "source": [
    "### Creating thumbnails\n",
    "\n",
    "As well as `resize()` above, PIL provides a special way for creating thumbnails. If we want to create thumbnail images we first need to specify the size of the thumbnail. This is the maximum size in each dimension. In other words, the longest side of the image will be set to this maximum value, and the shorter side of the image will be scaled to whatever size is appropriate to keep the proportions right.\n",
    "\n",
    "**Note that the thumbnail operation does not create a new image but overwrites the old image**. For this reason we may well want to creat a copy of the original image so we can use it again later."
   ]
  },
  {
   "cell_type": "code",
   "execution_count": null,
   "metadata": {},
   "outputs": [],
   "source": [
    "size = 128, 128               # Set size to 128 pixels in both directions\n",
    "im_thumbnail = im.copy()      # Create a copy of the image\n",
    "im_thumbnail.thumbnail(size)  # Turn the image into a thumbnail\n",
    "\n",
    "im_thumbnail.show()"
   ]
  },
  {
   "cell_type": "markdown",
   "metadata": {},
   "source": [
    "## Basic image enhancement\n",
    "\n",
    "The PIL gives us some basic functions for image enhancement. These include the examples given below. Note that this time we are not creating a new variable for each image but we are re-using one variable."
   ]
  },
  {
   "cell_type": "code",
   "execution_count": null,
   "metadata": {},
   "outputs": [],
   "source": [
    "# Automatically enhance the contrast\n",
    "im_enhanced = ImageOps.autocontrast(im)\n",
    "im_enhanced.show()\n",
    "\n",
    "# Automatically adjust the histogram\n",
    "im_enhanced = ImageOps.equalize(im)\n",
    "im_enhanced.show()"
   ]
  },
  {
   "cell_type": "markdown",
   "metadata": {},
   "source": [
    "# Going Further\n",
    "\n",
    "This gives you some idea of the possibilities that Python allows. Some things that you can now do include:\n",
    "\n",
    "* Find all the images in a TEI XML file, make copies of the images, and convert the copies into black and white.\n",
    "* Find the addresses of all images tagged with a given attribute in a TEI file and automatically adjust the image contrast and histogram of those images, saving the results in a new directory.\n",
    "* Going through a directory and automatically convert all JPG files in the directory to thumbnails. (For instructions on how to process all the files in a directory, see ['Automatic Batch Processing of a Set of Images'](https://github.com/pastokes/MS-images/blob/master/1.%20Image%20Analysis%20with%20PIL.ipynb) in the worksheet that I prepared for a different course.\n",
    "\n",
    "And so on. We will see more possibilities in the following worksheets, but in the meantime, use your imagination and don't be afraid to play and see how things work.\n"
   ]
  },
  {
   "cell_type": "markdown",
   "metadata": {},
   "source": [
    "---\n",
    "![Licence Creative Commons](https://i.creativecommons.org/l/by/4.0/88x31.png)\n",
    "This work (the contents of this Jupyter Python notebook) is licenced under a [Creative Commons Attribution 4.0 International](http://creativecommons.org/licenses/by/4.0/)"
   ]
  }
 ],
 "metadata": {
  "kernelspec": {
   "display_name": "Python 3",
   "language": "python",
   "name": "python3"
  },
  "language_info": {
   "codemirror_mode": {
    "name": "ipython",
    "version": 3
   },
   "file_extension": ".py",
   "mimetype": "text/x-python",
   "name": "python",
   "nbconvert_exporter": "python",
   "pygments_lexer": "ipython3",
   "version": "3.7.3"
  }
 },
 "nbformat": 4,
 "nbformat_minor": 2
}
