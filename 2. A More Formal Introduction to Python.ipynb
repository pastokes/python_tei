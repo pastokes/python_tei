{
 "cells": [
  {
   "cell_type": "markdown",
   "metadata": {},
   "source": [
    "**By Peter A. Stokes, École Pratique des Hautes Études – Université PSL**\n",
    "\n",
    "_These are brief notes and exercises on working with TEI XML files using Python. They are intended as teaching aids for the course on 'Image Processing with Python' which is part of the Atelier de formation annuel du Consortium Cahier on the topic of 'Exploiter les corpus d'auteurs' in Poitiers, 18--20 June 2019. For more details see https://cahier.hypotheses.org/4662_\n",
    "\n",
    "These notes assume a good knowledge of TEI XML but assume **no experience or knowledge at all** in programming.\n",
    "\n",
    "_If you are viewing this in Jupyter then you can edit the code simply by typing in the boxes. You can also execute the code in any box by clicking on the box and typing SHIFT + ENTER or using the 'Run' button in the menubar above._"
   ]
  },
  {
   "cell_type": "markdown",
   "metadata": {},
   "source": [
    "# Python basics\n",
    "\n",
    "This section gives a very brief summary of the basics of the Python 3 programming language. If you already know Python 3 then you can skip this section. If you know an earlier version of Python such as Python 2.7, then you can also skip this section, but be aware that `print 'hello'` is no longer valid: in Python 3 you must always include the parentheses, so `print('hello')` instead."
   ]
  },
  {
   "cell_type": "markdown",
   "metadata": {},
   "source": [
    "## Variables\n",
    "\n",
    "To create a new variable for storing data in memory, simply provide a unique name for that variable and use `=` to assign the content. Note that you can re-assign different content to an existing variable, in which case the new content will simply replace the old (hence the name 'variable'). You can have as many different variables as you like, as long as your computer doesn't run out of RAM. This is unlikely with modern computers, but it is possible if you have very large images.\n",
    "\n",
    "Notice also the `#` symbol. This is to signal a 'comment': i.e. everything after `#` on that line is a comment for us humans to read and so will be ignored by Python. It is very good practice to add comments as a reminder to you and a message to others of what your code does. You will be grateful when you come back to your code in a year's time!"
   ]
  },
  {
   "cell_type": "code",
   "execution_count": null,
   "metadata": {},
   "outputs": [],
   "source": [
    "a = 1      # Stores the integer (whole number) value 1 in the variable a\n",
    "b = 2.0    # Stores the decimal value 2.0 in the variable b\n",
    "\n",
    "c = a + b  # Stores the decimal value 3.0 (1 + 2.0) in the variable c\n",
    "c = c + 1  # Stores the decimal value 4.0 (3.0 + 1) in the variable c\n",
    "\n",
    "d = c / b  # Stores the decimal value of c divided by b into the variable d\n",
    "e = b * c  # Stores the decimal value of b multiplied by c into the variable f\n",
    "\n",
    "print(c)   # Prints the value currently stored in c (i.e. 4)\n",
    "print(d)\n",
    "print(e)\n"
   ]
  },
  {
   "cell_type": "markdown",
   "metadata": {},
   "source": [
    "Variables do not have to contain numbers but they can contain many things, including images (as we will see soon). Another common type of data is a string, namely a series of characters:"
   ]
  },
  {
   "cell_type": "code",
   "execution_count": null,
   "metadata": {},
   "outputs": [],
   "source": [
    "s1 = 'This is a string. It must be enclosed in single quotes.'\n",
    "s2 = 'The single quotes tell Python that it is a string.'\n",
    "s3 = 'Otherwise, Python might think that it is the name of a variable.'\n",
    "\n",
    "print(s1)\n",
    "print(s2)\n",
    "print(s3)\n",
    "\n",
    "print('You can also print a string directly without storing it first.')\n",
    "print(s1, s2, s3) # Notice what happens here"
   ]
  },
  {
   "cell_type": "markdown",
   "metadata": {},
   "source": [
    "## Libraries\n",
    "\n",
    "If you want to use a library of existing code then you **must** first tell Python to load it into your system **before** you use the library code. You can import an entire library, but normally you only import specific parts from that library. For this you use the `import` or `from ... import` command. You can also add `as` to give the library a short name if you want, as we do in the example below: `matplotlib.pyplot` is a pain to type so we give it the name `plt` for short. These are the libraries that we will be using today:"
   ]
  },
  {
   "cell_type": "code",
   "execution_count": null,
   "metadata": {},
   "outputs": [],
   "source": [
    "from PIL import Image\n",
    "from PIL import ImageOps\n",
    "from PIL import ImageChops\n",
    "import matplotlib.pyplot as plt"
   ]
  },
  {
   "cell_type": "markdown",
   "metadata": {},
   "source": [
    "## Lists\n",
    "\n",
    "Lists are a more complex type of data, but one that is very useful as it allows us to store a list of things in a single variable. To do this we use square brackets, with the contents of the list in the brackets separated by commas. We can have lists of anything we want: integers, decimal numbers, strings, images, ..."
   ]
  },
  {
   "cell_type": "code",
   "execution_count": null,
   "metadata": {},
   "outputs": [],
   "source": [
    "list1 = [1, 2, 3, 4, 5, 6, 7, 8, 9]\n",
    "list2 = [1.0, 2.6, 3.3, 4.7, 5.1, 6.7]\n",
    "list3 = ['a', 'b', 'c', 'd', 'e']\n",
    "list4 = ['bonjour', 'au revoir', 'ça va ?', 'très bien']\n",
    "\n",
    "print(list1)\n",
    "print(list2)\n",
    "print(list3)\n",
    "print(list4)"
   ]
  },
  {
   "cell_type": "markdown",
   "metadata": {},
   "source": [
    "At times we may want to access specific items in the list. To do this we use the following system:"
   ]
  },
  {
   "cell_type": "code",
   "execution_count": null,
   "metadata": {},
   "outputs": [],
   "source": [
    "list1[0]      # Gives us the first item in the list.\n",
    "list2[-1]     # Gives us the last item in the list\n",
    "list3[0:3]    # Gives us the first three items in the list\n",
    "list3[:3]     # Also gives us the first three items in the list\n",
    "list4[-3:]    # Gives us the last three items in the list\n",
    "list1[2:5]    # Gives us the third (!) through fifth items in the list\n",
    "\n",
    "# Let's test it:\n",
    "print(list1[0])      # Gives us the first item in the list.\n",
    "print(list2[-1])     # Gives us the last item in the list\n",
    "print(list3[0:3])    # Gives us the first three items in the list\n",
    "print(list3[:3])     # Also gives us the first three items in the list\n",
    "print(list4[-2:])    # Gives us the last two items in the list\n",
    "print(list1[2:5])    # Gives us the third (!) through fifth items in the list\n",
    "\n"
   ]
  },
  {
   "cell_type": "markdown",
   "metadata": {},
   "source": [
    "## Loops\n",
    "\n",
    "One of programming's biggest strengths is being able to do things again and again, automatically and very quickly. To do this, we need to use loops: that is, we tell Python:\n",
    "\n",
    "For every item i in a list l:\n",
    "   * Do this\n",
    "   * Do that\n",
    "   * Etc.\n",
    "\n",
    "Let's demonstrate this with a simple list. Let's say we want to do the following:\n",
    "\n",
    "1. Create a list of five numbers and save it in a variable.\n",
    "1. `For` each number `in` the list:\n",
    "   1. Add ten to it\n",
    "   1. Print it out\n",
    "1. After we've gone through the whole list then print a message (\"Finished!\")\n",
    "   \n",
    "This is what the code looks like:"
   ]
  },
  {
   "cell_type": "code",
   "execution_count": null,
   "metadata": {},
   "outputs": [],
   "source": [
    "list = [2, 4, 6, 8, 10]\n",
    "\n",
    "for n in list:\n",
    "    temp = n + 10\n",
    "    print(temp)\n",
    "print(\"Finished!\")"
   ]
  },
  {
   "cell_type": "markdown",
   "metadata": {},
   "source": [
    "---\n",
    "![Licence Creative Commons](https://i.creativecommons.org/l/by/4.0/88x31.png)\n",
    "This work (the contents of this Jupyter Python notebook) is licenced under a [Creative Commons Attribution 4.0 International](http://creativecommons.org/licenses/by/4.0/)"
   ]
  }
 ],
 "metadata": {
  "kernelspec": {
   "display_name": "Python 3",
   "language": "python",
   "name": "python3"
  },
  "language_info": {
   "codemirror_mode": {
    "name": "ipython",
    "version": 3
   },
   "file_extension": ".py",
   "mimetype": "text/x-python",
   "name": "python",
   "nbconvert_exporter": "python",
   "pygments_lexer": "ipython3",
   "version": "3.7.3"
  }
 },
 "nbformat": 4,
 "nbformat_minor": 2
}
