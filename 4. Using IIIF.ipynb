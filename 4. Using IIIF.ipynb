{
 "cells": [
  {
   "cell_type": "markdown",
   "metadata": {},
   "source": [
    "**By Peter A. Stokes, École Pratique des Hautes Études – Université PSL**\n",
    "\n",
    "_These are brief notes and exercises on working with TEI XML files using Python. They are intended as teaching aids for the course on 'Image Processing with Python' which is part of the Atelier de formation annuel du Consortium Cahier on the topic of 'Exploiter les corpus d'auteurs' in Poitiers, 18--20 June 2019. For more details see https://cahier.hypotheses.org/4662_\n",
    "\n",
    "These notes assume a good knowledge of TEI XML but assume **no experience or knowledge at all** in programming. This notebook also assumes that [Beautiful Soup 4](https://pypi.org/project/beautifulsoup4/) has already been installed in your Python system, and that the file [here](http://xtf.bvh.univ-tours.fr/xtf/data/tei/B330636101_S1238/B330636101_S1238_tei.xml) has already been downloaded and saved in the same directory as this notebook.\n",
    "\n",
    "_If you are viewing this in Jupyter then you can edit the code simply by typing in the boxes. You can also execute the code in any box by clicking on the box and typing SHIFT + ENTER or using the 'Run' button in the menubar above._"
   ]
  },
  {
   "cell_type": "markdown",
   "metadata": {},
   "source": [
    "# **\\[Ad intro/context\\]**\n",
    "\n",
    "1. IIIF: NB relationship between TEI XML @facs and the IIIF, e.g. https://gallica.bnf.fr/iiif/ark:/12148/bpt6k11718168/f17/full/pct:25/0/native.jpg\n",
    "   * So could easily load images with IIIF\n",
    "   * Could also use TEI documentary view to load sections of images with Python & IIIF\n",
    "   \n",
    "**Remember: already have slides on IIIF!**"
   ]
  },
  {
   "cell_type": "code",
   "execution_count": 15,
   "metadata": {},
   "outputs": [],
   "source": [
    "import urllib, json, io, requests\n",
    "from PIL import Image\n",
    "\n",
    "manifest_url = \"https://gallica.bnf.fr/iiif/ark:/12148/bpt6k11718168/manifest.json\"\n",
    "\n",
    "re = urllib.request.urlopen(manifest_url)\n",
    "manifest = json.loads(re.read())"
   ]
  },
  {
   "cell_type": "code",
   "execution_count": 34,
   "metadata": {},
   "outputs": [
    {
     "name": "stdout",
     "output_type": "stream",
     "text": [
      "https://gallica.bnf.fr/iiif/ark:/12148/bpt6k11718168/f21/full/full/0/native.jpg\n",
      "https://gallica.bnf.fr/iiif/ark:/12148/bpt6k11718168/f22/full/full/0/native.jpg\n",
      "https://gallica.bnf.fr/iiif/ark:/12148/bpt6k11718168/f23/full/full/0/native.jpg\n",
      "https://gallica.bnf.fr/iiif/ark:/12148/bpt6k11718168/f24/full/full/0/native.jpg\n",
      "https://gallica.bnf.fr/iiif/ark:/12148/bpt6k11718168/f25/full/full/0/native.jpg\n"
     ]
    }
   ],
   "source": [
    "canvases = manifest[\"sequences\"][0]['canvases']\n",
    "\n",
    "for canvas in canvases[20:25]:\n",
    "    im_addr = canvas[\"images\"][0][\"resource\"][\"@id\"]\n",
    "    #im_addr = im_addr.replace(\"/full/full/0\", \"/full/pct:25/0\")\n",
    "    print(im_addr)"
   ]
  },
  {
   "cell_type": "code",
   "execution_count": 17,
   "metadata": {},
   "outputs": [],
   "source": [
    "for canvas in canvases[0:5]:\n",
    "    im_addr = canvas[\"images\"][0][\"resource\"][\"@id\"]\n",
    "    im_addr = im_addr.replace(\"/full/full/0\", \"/full/pct:25/0\")\n",
    "    res = requests.get(im_addr)\n",
    "    image = Image.open(io.BytesIO(res.content))\n",
    "    image.show()"
   ]
  },
  {
   "cell_type": "code",
   "execution_count": 27,
   "metadata": {},
   "outputs": [
    {
     "name": "stdout",
     "output_type": "stream",
     "text": [
      "(1170, 1519)\n",
      "(1205, 1535)\n",
      "(1170, 1519)\n",
      "(1205, 1535)\n",
      "(1170, 1519)\n"
     ]
    }
   ],
   "source": [
    "images = []\n",
    "\n",
    "for canvas in canvases[20:25]:\n",
    "    im_addr = canvas[\"images\"][0][\"resource\"][\"@id\"]\n",
    "    im_addr = im_addr.replace(\"/full/full/0\", \"/full/pct:25/0\")\n",
    "    res = requests.get(im_addr)\n",
    "    image = Image.open(io.BytesIO(res.content))\n",
    "    images.append(image)\n",
    "    \n",
    "for image in images:\n",
    "    print(image.size)\n",
    "    image.show()"
   ]
  },
  {
   "cell_type": "code",
   "execution_count": 24,
   "metadata": {},
   "outputs": [
    {
     "name": "stdout",
     "output_type": "stream",
     "text": [
      "(1147, 1519)\n",
      "(1208, 1535)\n",
      "(1147, 1519)\n",
      "(1208, 1535)\n",
      "(1147, 1519)\n"
     ]
    }
   ],
   "source": [
    "for image in images:\n",
    "    print(image.size)"
   ]
  },
  {
   "cell_type": "code",
   "execution_count": 35,
   "metadata": {},
   "outputs": [],
   "source": [
    "images2 = []\n",
    "\n",
    "for canvas in canvases[20:25]:\n",
    "    im_addr = canvas[\"images\"][0][\"resource\"][\"@id\"]\n",
    "    im_addr = im_addr.replace(\"/full/full/0\", \"/810,1250,2925,185/pct:25/0\")\n",
    "    res = requests.get(im_addr)\n",
    "    image = Image.open(io.BytesIO(res.content))\n",
    "    images2.append(image)"
   ]
  },
  {
   "cell_type": "code",
   "execution_count": 36,
   "metadata": {},
   "outputs": [
    {
     "name": "stdout",
     "output_type": "stream",
     "text": [
      "(731, 46)\n",
      "(731, 46)\n",
      "(731, 46)\n",
      "(731, 46)\n",
      "(731, 46)\n"
     ]
    }
   ],
   "source": [
    "for image in images2:\n",
    "    print(image.size)\n",
    "    image.show()"
   ]
  },
  {
   "cell_type": "code",
   "execution_count": 54,
   "metadata": {},
   "outputs": [
    {
     "name": "stdout",
     "output_type": "stream",
     "text": [
      "https://gallica.bnf.fr/iiif/ark:/12148/bpt6k11718168/f23/660,435,2950,140/pct:25/0/native.jpg\n",
      "https://gallica.bnf.fr/iiif/ark:/12148/bpt6k11718168/f23/660,575,2950,140/pct:25/0/native.jpg\n",
      "https://gallica.bnf.fr/iiif/ark:/12148/bpt6k11718168/f23/660,715,2950,140/pct:25/0/native.jpg\n",
      "https://gallica.bnf.fr/iiif/ark:/12148/bpt6k11718168/f23/660,855,2950,140/pct:25/0/native.jpg\n",
      "https://gallica.bnf.fr/iiif/ark:/12148/bpt6k11718168/f23/660,995,2950,140/pct:25/0/native.jpg\n",
      "https://gallica.bnf.fr/iiif/ark:/12148/bpt6k11718168/f23/660,1135,2950,140/pct:25/0/native.jpg\n",
      "https://gallica.bnf.fr/iiif/ark:/12148/bpt6k11718168/f23/660,1275,2950,140/pct:25/0/native.jpg\n",
      "https://gallica.bnf.fr/iiif/ark:/12148/bpt6k11718168/f23/660,1415,2950,140/pct:25/0/native.jpg\n",
      "https://gallica.bnf.fr/iiif/ark:/12148/bpt6k11718168/f23/660,1555,2950,140/pct:25/0/native.jpg\n",
      "https://gallica.bnf.fr/iiif/ark:/12148/bpt6k11718168/f23/660,1695,2950,140/pct:25/0/native.jpg\n",
      "https://gallica.bnf.fr/iiif/ark:/12148/bpt6k11718168/f23/660,1835,2950,140/pct:25/0/native.jpg\n",
      "https://gallica.bnf.fr/iiif/ark:/12148/bpt6k11718168/f23/660,1975,2950,140/pct:25/0/native.jpg\n",
      "https://gallica.bnf.fr/iiif/ark:/12148/bpt6k11718168/f23/660,2115,2950,140/pct:25/0/native.jpg\n",
      "https://gallica.bnf.fr/iiif/ark:/12148/bpt6k11718168/f23/660,2255,2950,140/pct:25/0/native.jpg\n",
      "https://gallica.bnf.fr/iiif/ark:/12148/bpt6k11718168/f23/660,2395,2950,140/pct:25/0/native.jpg\n",
      "https://gallica.bnf.fr/iiif/ark:/12148/bpt6k11718168/f23/660,2535,2950,140/pct:25/0/native.jpg\n",
      "https://gallica.bnf.fr/iiif/ark:/12148/bpt6k11718168/f23/660,2675,2950,140/pct:25/0/native.jpg\n",
      "https://gallica.bnf.fr/iiif/ark:/12148/bpt6k11718168/f23/660,2815,2950,140/pct:25/0/native.jpg\n",
      "https://gallica.bnf.fr/iiif/ark:/12148/bpt6k11718168/f23/660,2955,2950,140/pct:25/0/native.jpg\n",
      "https://gallica.bnf.fr/iiif/ark:/12148/bpt6k11718168/f23/660,3095,2950,140/pct:25/0/native.jpg\n",
      "https://gallica.bnf.fr/iiif/ark:/12148/bpt6k11718168/f23/660,3235,2950,140/pct:25/0/native.jpg\n",
      "https://gallica.bnf.fr/iiif/ark:/12148/bpt6k11718168/f23/660,3375,2950,140/pct:25/0/native.jpg\n",
      "https://gallica.bnf.fr/iiif/ark:/12148/bpt6k11718168/f23/660,3515,2950,140/pct:25/0/native.jpg\n",
      "https://gallica.bnf.fr/iiif/ark:/12148/bpt6k11718168/f23/660,3655,2950,140/pct:25/0/native.jpg\n",
      "https://gallica.bnf.fr/iiif/ark:/12148/bpt6k11718168/f23/660,3795,2950,140/pct:25/0/native.jpg\n",
      "https://gallica.bnf.fr/iiif/ark:/12148/bpt6k11718168/f23/660,3935,2950,140/pct:25/0/native.jpg\n",
      "https://gallica.bnf.fr/iiif/ark:/12148/bpt6k11718168/f23/660,4075,2950,140/pct:25/0/native.jpg\n",
      "https://gallica.bnf.fr/iiif/ark:/12148/bpt6k11718168/f23/660,4215,2950,140/pct:25/0/native.jpg\n",
      "https://gallica.bnf.fr/iiif/ark:/12148/bpt6k11718168/f23/660,4355,2950,140/pct:25/0/native.jpg\n",
      "https://gallica.bnf.fr/iiif/ark:/12148/bpt6k11718168/f23/660,4495,2950,140/pct:25/0/native.jpg\n",
      "https://gallica.bnf.fr/iiif/ark:/12148/bpt6k11718168/f23/660,4635,2950,140/pct:25/0/native.jpg\n",
      "https://gallica.bnf.fr/iiif/ark:/12148/bpt6k11718168/f23/660,4775,2950,140/pct:25/0/native.jpg\n",
      "https://gallica.bnf.fr/iiif/ark:/12148/bpt6k11718168/f23/660,4915,2950,140/pct:25/0/native.jpg\n"
     ]
    }
   ],
   "source": [
    "im_addr = canvases[22][\"images\"][0][\"resource\"][\"@id\"]\n",
    "\n",
    "line_height = 140\n",
    "col_width = 2950\n",
    "\n",
    "start_x = 660\n",
    "start_y = 435\n",
    "\n",
    "for lineno in range(33):\n",
    "    coord = \"/\" + str(start_x) + \",\" + str(start_y + lineno*line_height) + \",\" + str(col_width) + \",\" + str(line_height)\n",
    "    line_addr = im_addr.replace(\"/full/full/0\", coord + \"/pct:25/0\")\n",
    "    print(line_addr)"
   ]
  },
  {
   "cell_type": "code",
   "execution_count": 64,
   "metadata": {},
   "outputs": [
    {
     "name": "stdout",
     "output_type": "stream",
     "text": [
      "https://gallica.bnf.fr/iiif/ark:/12148/bpt6k11718168/f23/660,435,2950,140/pct:25/0/native.jpg\n",
      "https://gallica.bnf.fr/iiif/ark:/12148/bpt6k11718168/f23/660,575,2950,140/pct:25/0/native.jpg\n",
      "https://gallica.bnf.fr/iiif/ark:/12148/bpt6k11718168/f23/660,715,2950,140/pct:25/0/native.jpg\n",
      "https://gallica.bnf.fr/iiif/ark:/12148/bpt6k11718168/f23/660,855,2950,140/pct:25/0/native.jpg\n",
      "https://gallica.bnf.fr/iiif/ark:/12148/bpt6k11718168/f23/660,995,2950,140/pct:25/0/native.jpg\n",
      "https://gallica.bnf.fr/iiif/ark:/12148/bpt6k11718168/f23/660,1135,2950,140/pct:25/0/native.jpg\n",
      "https://gallica.bnf.fr/iiif/ark:/12148/bpt6k11718168/f23/660,1275,2950,140/pct:25/0/native.jpg\n",
      "https://gallica.bnf.fr/iiif/ark:/12148/bpt6k11718168/f23/660,1415,2950,140/pct:25/0/native.jpg\n",
      "https://gallica.bnf.fr/iiif/ark:/12148/bpt6k11718168/f23/660,1555,2950,140/pct:25/0/native.jpg\n",
      "https://gallica.bnf.fr/iiif/ark:/12148/bpt6k11718168/f23/660,1695,2950,140/pct:25/0/native.jpg\n",
      "https://gallica.bnf.fr/iiif/ark:/12148/bpt6k11718168/f23/660,1835,2950,140/pct:25/0/native.jpg\n",
      "https://gallica.bnf.fr/iiif/ark:/12148/bpt6k11718168/f23/660,1975,2950,140/pct:25/0/native.jpg\n",
      "https://gallica.bnf.fr/iiif/ark:/12148/bpt6k11718168/f23/660,2115,2950,140/pct:25/0/native.jpg\n",
      "https://gallica.bnf.fr/iiif/ark:/12148/bpt6k11718168/f23/660,2255,2950,140/pct:25/0/native.jpg\n",
      "https://gallica.bnf.fr/iiif/ark:/12148/bpt6k11718168/f23/660,2395,2950,140/pct:25/0/native.jpg\n",
      "https://gallica.bnf.fr/iiif/ark:/12148/bpt6k11718168/f23/660,2535,2950,140/pct:25/0/native.jpg\n",
      "https://gallica.bnf.fr/iiif/ark:/12148/bpt6k11718168/f23/660,2675,2950,140/pct:25/0/native.jpg\n",
      "https://gallica.bnf.fr/iiif/ark:/12148/bpt6k11718168/f23/660,2815,2950,140/pct:25/0/native.jpg\n",
      "https://gallica.bnf.fr/iiif/ark:/12148/bpt6k11718168/f23/660,2955,2950,140/pct:25/0/native.jpg\n",
      "https://gallica.bnf.fr/iiif/ark:/12148/bpt6k11718168/f23/660,3095,2950,140/pct:25/0/native.jpg\n",
      "https://gallica.bnf.fr/iiif/ark:/12148/bpt6k11718168/f23/660,3235,2950,140/pct:25/0/native.jpg\n",
      "https://gallica.bnf.fr/iiif/ark:/12148/bpt6k11718168/f23/660,3375,2950,140/pct:25/0/native.jpg\n",
      "https://gallica.bnf.fr/iiif/ark:/12148/bpt6k11718168/f23/660,3515,2950,140/pct:25/0/native.jpg\n",
      "https://gallica.bnf.fr/iiif/ark:/12148/bpt6k11718168/f23/660,3655,2950,140/pct:25/0/native.jpg\n",
      "https://gallica.bnf.fr/iiif/ark:/12148/bpt6k11718168/f23/660,3795,2950,140/pct:25/0/native.jpg\n",
      "https://gallica.bnf.fr/iiif/ark:/12148/bpt6k11718168/f23/660,3935,2950,140/pct:25/0/native.jpg\n",
      "https://gallica.bnf.fr/iiif/ark:/12148/bpt6k11718168/f23/660,4075,2950,140/pct:25/0/native.jpg\n",
      "https://gallica.bnf.fr/iiif/ark:/12148/bpt6k11718168/f23/660,4215,2950,140/pct:25/0/native.jpg\n",
      "https://gallica.bnf.fr/iiif/ark:/12148/bpt6k11718168/f23/660,4355,2950,140/pct:25/0/native.jpg\n",
      "https://gallica.bnf.fr/iiif/ark:/12148/bpt6k11718168/f23/660,4495,2950,140/pct:25/0/native.jpg\n",
      "https://gallica.bnf.fr/iiif/ark:/12148/bpt6k11718168/f23/660,4635,2950,140/pct:25/0/native.jpg\n",
      "https://gallica.bnf.fr/iiif/ark:/12148/bpt6k11718168/f23/660,4775,2950,140/pct:25/0/native.jpg\n",
      "https://gallica.bnf.fr/iiif/ark:/12148/bpt6k11718168/f23/660,4915,2950,140/pct:25/0/native.jpg\n"
     ]
    }
   ],
   "source": [
    "line_imgs = []\n",
    "\n",
    "im_addr = canvases[22][\"images\"][0][\"resource\"][\"@id\"]\n",
    "\n",
    "line_height = 140\n",
    "col_width = 2950\n",
    "\n",
    "start_x = 660\n",
    "start_y = 435\n",
    "\n",
    "for lineno in range(33):\n",
    "    coord = \"/\" + str(start_x) + \",\" + str(start_y + lineno*line_height) + \",\" + str(col_width) + \",\" + str(line_height)\n",
    "    line_addr = im_addr.replace(\"/full/full/0\", coord + \"/pct:25/0\")\n",
    "    print(line_addr)\n",
    "    res = requests.get(line_addr)\n",
    "    image = Image.open(io.BytesIO(res.content))\n",
    "    line_imgs.append(image)"
   ]
  },
  {
   "cell_type": "code",
   "execution_count": 47,
   "metadata": {},
   "outputs": [],
   "source": [
    "for image in images2:\n",
    "    image.show()"
   ]
  },
  {
   "cell_type": "code",
   "execution_count": 55,
   "metadata": {},
   "outputs": [],
   "source": [
    "from bs4 import BeautifulSoup\n",
    "\n",
    "path = \"../Example Texts/Montaigne f22.xml\"\n",
    "\n",
    "inFile = open(path)\n",
    "fileXML = inFile.read()\n",
    "\n",
    "bs = BeautifulSoup(fileXML, \"xml\")\n",
    "\n",
    "inFile.close()"
   ]
  },
  {
   "cell_type": "code",
   "execution_count": 68,
   "metadata": {},
   "outputs": [
    {
     "name": "stdout",
     "output_type": "stream",
     "text": [
      "[<reg>advantage</reg>, <reg>rapportant</reg>, <reg>tousjours</reg>]\n"
     ]
    }
   ],
   "source": [
    "linelist = bs.select(\"surface > zone > line\")\n",
    "\n",
    "print(linelist[2].select(\"reg\"))\n",
    "line_imgs[2].show()"
   ]
  }
 ],
 "metadata": {
  "kernelspec": {
   "display_name": "Python 3",
   "language": "python",
   "name": "python3"
  },
  "language_info": {
   "codemirror_mode": {
    "name": "ipython",
    "version": 3
   },
   "file_extension": ".py",
   "mimetype": "text/x-python",
   "name": "python",
   "nbconvert_exporter": "python",
   "pygments_lexer": "ipython3",
   "version": "3.6.8"
  }
 },
 "nbformat": 4,
 "nbformat_minor": 2
}
