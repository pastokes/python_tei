{
 "cells": [
  {
   "cell_type": "markdown",
   "metadata": {},
   "source": [
    "**By Peter A. Stokes, École Pratique des Hautes Études – Université PSL**\n",
    "\n",
    "_These are brief notes and exercises on working with TEI XML files using Python. They are intended as teaching aids for the course on 'Image Processing with Python' which is part of the Atelier de formation annuel du Consortium Cahier on the topic of 'Exploiter les corpus d'auteurs' in Poitiers, 18--20 June 2019. For more details see https://cahier.hypotheses.org/4662_\n",
    "\n",
    "These notes assume a good knowledge of TEI XML but assume **no experience or knowledge at all** in programming. This notebook also assumes that [Beautiful Soup 4](https://pypi.org/project/beautifulsoup4/) has already been installed in your Python system, and that the file [here](http://xtf.bvh.univ-tours.fr/xtf/data/tei/B330636101_S1238/B330636101_S1238_tei.xml) has already been downloaded and saved in the same directory as this notebook.\n",
    "\n",
    "_If you are viewing this in Jupyter then you can edit the code simply by typing in the boxes. You can also execute the code in any box by clicking on the box and typing SHIFT + ENTER or using the 'Run' button in the menubar above._"
   ]
  },
  {
   "cell_type": "markdown",
   "metadata": {},
   "source": [
    "# Import Libraries\n",
    "\n",
    "One of the main strengths of Python is that other people have written code for us that we can import and use for ourselves. A good example of this is the Beautiful Soup library which is designed for working with HTML and other forms like XML. This means that the first thing we often do in Python is tell the system to load in the libraries that we need, so that we can then use them."
   ]
  },
  {
   "cell_type": "code",
   "execution_count": null,
   "metadata": {},
   "outputs": [],
   "source": [
    "from bs4 import BeautifulSoup"
   ]
  },
  {
   "cell_type": "markdown",
   "metadata": {},
   "source": [
    "# Load in the file\n",
    "\n",
    "The next step is to load the file into the system and give it to Beautiful Soup. To do this, we need the following steps:\n",
    "\n",
    "1. Tell Python where the file is located, relative to our current location in the file system. The best way to do this is to store it in memory where we can find it again later. To do this we need to give our location a name so that we can find it again; here I have chosen to call it `path`.\n",
    "1. Open the file at location `path`. To do this we use the Python command `open()`. Again, we need to store the reference to the open file somewhere so we can get it again; I have chosen to call it `inFile`.\n",
    "1. Read in the contents of the file (using `read()`) and store it in memory. Here I have chosen to call it `fileXML`.\n",
    "1. Send the raw XML to Beautiful Soup so that it can process it. It helps (but isn't necessary) to tell Beautiful Soup that this is an XML file. We store the results of the Beautiful Soup creation in memory and call this `bs`.\n",
    "1. Tell the operating system to `close` the file. This isn't essential but is good practice as the Operating System can then free up memory, allow another program to access the file and so on, which would be important in a big online system, for instance."
   ]
  },
  {
   "cell_type": "code",
   "execution_count": null,
   "metadata": {},
   "outputs": [],
   "source": [
    "# Store the location of the file in a variable for Python\n",
    "path = \"../Example Texts/B330636101_S1238_tei.xml\"\n",
    "\n",
    "# Now open the file and store the reference to the file in another variable\n",
    "inFile = open(path)\n",
    "\n",
    "# Read in the contents (and store it in yet another variable)\n",
    "fileXML = inFile.read()\n",
    "\n",
    "# Send the contents to Beautiful Soup, and store the results in another variable\n",
    "bs = BeautifulSoup(fileXML, \"xml\")\n",
    "\n",
    "# Close the original file\n",
    "inFile.close()"
   ]
  },
  {
   "cell_type": "markdown",
   "metadata": {},
   "source": [
    "# View Parts of the File\n",
    "\n",
    "We should now have our XML file stored in a variable (i.e. a place in memory with a name) so that we can now process it. We can find specific parts of the XML structure in two ways. The first is using `select()`, where we can use the syntax of CSS selectors (see further https://www.w3schools.com/cssref/css_selectors.asp). For instance, if we want to find all elements at `TEI/teiHeader/revisionDesc/change/persName` then we can do it like this:"
   ]
  },
  {
   "cell_type": "code",
   "execution_count": null,
   "metadata": {
    "scrolled": true
   },
   "outputs": [],
   "source": [
    "bs.select(\"TEI > teiHeader > revisionDesc > change > persName\")"
   ]
  },
  {
   "cell_type": "markdown",
   "metadata": {},
   "source": [
    "We can also use CSS selectors and `select()` to find only those elements with specific attributes. Let's look for all `<supplied>` elements where the `@resp` is equal to `#MD`. This is how we do it:"
   ]
  },
  {
   "cell_type": "code",
   "execution_count": null,
   "metadata": {},
   "outputs": [],
   "source": [
    "bs.select(\"supplied[resp='#MD']\")"
   ]
  },
  {
   "cell_type": "markdown",
   "metadata": {},
   "source": [
    "**Warning**: If you are used to XPath then be careful here, as CSS selectors look similar but behave differently in the details! Here is a quick summary of some of the main CSS Selector functions:\n",
    "\n",
    "Selector | Result\n",
    "---------|--------------------------\n",
    "#id      | Elements with an @id of id\n",
    "e1, e2   | All e1 elements _and_ all e2 elements\n",
    "e1 e2    | All e2 elements _inside_ e1 elements\n",
    "e1 > e2  | All e2 elements which are immediate children of an e2 element\n",
    "\\[attr = v] | All elements where the attribute @attr has value v\n",
    "\\[attr ~= v] | All elements where the attribut @attr _contains_ the _word_ v"
   ]
  },
  {
   "cell_type": "markdown",
   "metadata": {},
   "source": [
    "## Exercise\n",
    "\n",
    "Now you try to do the same thing to find all `supplied` lines. Click into the box below, type your answer, and run it to see if you get the right result."
   ]
  },
  {
   "cell_type": "code",
   "execution_count": null,
   "metadata": {},
   "outputs": [],
   "source": []
  },
  {
   "cell_type": "markdown",
   "metadata": {},
   "source": [
    "Now write code in the box below to find the following:\n",
    "\n",
    "1. All `<supplied>` content inside the `<front>` element\n",
    "1. All text marked as being in a `<foreign>` language (anywhere in the document)\n",
    "1. All text in the `<body>` in its `<orig>` form (as opposed to its `<reg>` form)\n",
    "1. All `<supplied>` content in the `<body>` which includes #IN40413 as a `@source`\n",
    "1. The `<pb>` element for which `@n` is [4v]"
   ]
  },
  {
   "cell_type": "code",
   "execution_count": null,
   "metadata": {},
   "outputs": [],
   "source": []
  },
  {
   "cell_type": "markdown",
   "metadata": {},
   "source": [
    "# Counting Results\n",
    "\n",
    "Now that we have our XML and can find specific parts of it, we want to do some interesting things with it. Let's try counting. To do this we can do the following:\n",
    "\n",
    "1. Ask Beautiful Soup to find all the `<lb/>` elements in the XML document using `select()`. As we have seen, Beautiful Soup will give us a list of all the `<lb/>`s that match.\n",
    "1. Store this list in a variable (i.e. in memory with a name).\n",
    "1. Ask Python to tell us the `len`gth of our list.\n",
    "\n",
    "Here is an example that counts how many `<supplied>` elements have `@resp` equal to #MD:"
   ]
  },
  {
   "cell_type": "code",
   "execution_count": null,
   "metadata": {},
   "outputs": [],
   "source": [
    "sup = bs.select(\"supplied[resp='#MD']\")\n",
    "len(sup)"
   ]
  },
  {
   "cell_type": "markdown",
   "metadata": {},
   "source": [
    "Now do the same yourself to find how many `<pb/>` elements there are. How many have `@facs` attributes? How many do _not_ have `@facs` elements?\n",
    "\n",
    "(Hint: to subtract one number from another, simply use the `-` (minus) sign. So `10 - 7` will give `3`, and so on.)"
   ]
  },
  {
   "cell_type": "code",
   "execution_count": null,
   "metadata": {},
   "outputs": [],
   "source": []
  },
  {
   "cell_type": "markdown",
   "metadata": {},
   "source": [
    "# Getting and Working with a Single Result\n",
    "\n",
    "As we have seen, `select()` gives us a list of results, but sometimes we want a specific one. In Python, Lists are actually very powerful and allow us to do many different things. We have already seen how to count the length of the list, but we can also get the first item, the last item, add and remove items, and so on.\n",
    "\n",
    "To get the first, third, fifth, etc. item in a list, we use the name of the list followed by the number of the item in square brackets. So above we created our list and stored it in a variable that we called `sup`, so we can display different items in our list of results by using `print` and the square bracket notation like this:"
   ]
  },
  {
   "cell_type": "code",
   "execution_count": null,
   "metadata": {},
   "outputs": [],
   "source": [
    "print(sup[1])\n",
    "\n",
    "print(sup[10])"
   ]
  },
  {
   "cell_type": "markdown",
   "metadata": {},
   "source": [
    "There are some important things to notice here:\n",
    "\n",
    "* **The first item in the list is always number 0**. This is specific to Python but is also the case in many (but not all!) programming languages. This means that to get the first item in the list stored in variable `sup`, we use `sup[0]`.\n",
    "* **Getting the last item in the list is not immediately obvious**. We could put in the number of the last item, but we don't know in advance how many items there are in the list. There are therefore two ways of doing this:\n",
    "  * One is to use `len()` (How? Try it! Be careful, though, as there is a trap!)\n",
    "  * Another is that `-1` in Pyton means 'the last'. So here `sup[-1]` means 'give me the _last_ element in the list stored in my variable `sup`'\n",
    "  \n",
    "Try it now, to print the first and last item in our list `sup` in the box below:"
   ]
  },
  {
   "cell_type": "code",
   "execution_count": null,
   "metadata": {},
   "outputs": [],
   "source": []
  },
  {
   "cell_type": "markdown",
   "metadata": {},
   "source": [
    "Once we have a single result, we can then do some more interesting things with it.\n",
    "\n",
    "One is to get the attribute of the result. To do this, we put the name of the attribute into square brackets, so for instance if we have a single result stored in a variable `a`, then to get the `@type` attribute we use `a[\"type\"]`. Here is another example:"
   ]
  },
  {
   "cell_type": "code",
   "execution_count": null,
   "metadata": {},
   "outputs": [],
   "source": [
    "# Store the first element in a new variable (let's call it s)\n",
    "\n",
    "s = sup[0]\n",
    "\n",
    "# Now use the [] notation to get the value of the @resp attribute and print it\n",
    "\n",
    "print(s[\"resp\"])"
   ]
  },
  {
   "cell_type": "markdown",
   "metadata": {},
   "source": [
    "Now use this method to get the `@facs` attribute of the *last* `<pb>` element in the document. To do this, you will need to:\n",
    "\n",
    "1. Use `bs.select()` to get a list of all `<pb>` elements in the document, and store this in a variable.\n",
    "1. Get the last element in the list and store that in a new variable\n",
    "1. Use the `[]` notation to get the attribute value and print it out.\n",
    "\n",
    "If it works then you should see the a link to the image of the last page in the document. Click on the link: you should then see an image of [this page](http://gallica.bnf.fr/ark:/12148/bpt6k11718168/f1022.highres)."
   ]
  },
  {
   "cell_type": "code",
   "execution_count": null,
   "metadata": {},
   "outputs": [],
   "source": []
  },
  {
   "cell_type": "markdown",
   "metadata": {},
   "source": [
    "There are many other things we can do with a single result like this. One is to format the XML nicely (more or less) for printing and display. To do this we use the `prettify()` method like this: "
   ]
  },
  {
   "cell_type": "code",
   "execution_count": null,
   "metadata": {},
   "outputs": [],
   "source": [
    "rd = bs.select(\"TEI > teiHeader > revisionDesc\")\n",
    "print(rd[0].prettify())"
   ]
  },
  {
   "cell_type": "markdown",
   "metadata": {},
   "source": [
    "# Finding Text\n",
    "\n",
    "To find specific text content (not names of tags or attributes), we can use `find_all()`. This works similarly to `select()` but is not based on CSS selectors. Instead it is more precise and in many ways more powerful, but it's also a bit harder to use. Here are some examples of how it works:"
   ]
  },
  {
   "cell_type": "code",
   "execution_count": null,
   "metadata": {},
   "outputs": [],
   "source": [
    "# Find all examples of the <reg> element\n",
    "\n",
    "bs.find_all(\"reg\")"
   ]
  },
  {
   "cell_type": "code",
   "execution_count": null,
   "metadata": {},
   "outputs": [],
   "source": [
    "# Find all examples of the word 'quand' *inside* a <reg> element\n",
    "\n",
    "bs.find_all(\"reg\", string=\"quand\")"
   ]
  },
  {
   "cell_type": "code",
   "execution_count": null,
   "metadata": {},
   "outputs": [],
   "source": [
    "# NB that 'string' only searches the immediate text node, so this returns no results:\n",
    "bs.find_all(\"choice\", string=\"quand\")"
   ]
  },
  {
   "cell_type": "code",
   "execution_count": null,
   "metadata": {},
   "outputs": [],
   "source": [
    "# If we want to find text anywhere in a descendant of the current node then we have to specify a recursive search:\n",
    "bs.find_all(\"choice\").find_all(string=\"quand\")"
   ]
  },
  {
   "cell_type": "markdown",
   "metadata": {},
   "source": [
    "# Modifying the XML\n",
    "\n",
    "It's also possible to modify the contents and even the structure of the XML with Beautiful Soup:"
   ]
  },
  {
   "cell_type": "code",
   "execution_count": null,
   "metadata": {},
   "outputs": [],
   "source": [
    "# Create a new very simple XML document, just to demonstrate the principle\n",
    "soup = BeautifulSoup('<p>This text is <b class=\"boldest\">extremely bold</b></p>')\n",
    "tag = soup.find('b')\n",
    "print(tag)"
   ]
  },
  {
   "cell_type": "code",
   "execution_count": null,
   "metadata": {},
   "outputs": [],
   "source": [
    "# Let's change the tag name and add some attributes\n",
    "tag.name = \"blockquote\"\n",
    "tag['class'] = 'verybold'\n",
    "tag['id'] = 1\n",
    "print(tag)"
   ]
  },
  {
   "cell_type": "code",
   "execution_count": null,
   "metadata": {},
   "outputs": [],
   "source": [
    "# Now remove some attributes\n",
    "\n",
    "del(tag['class'])\n",
    "del(tag['id'])\n",
    "print(tag)"
   ]
  },
  {
   "cell_type": "code",
   "execution_count": null,
   "metadata": {},
   "outputs": [],
   "source": [
    "# Let's add some text to the tag's contents\n",
    "\n",
    "tag.append(' hello')\n",
    "print(tag)"
   ]
  },
  {
   "cell_type": "code",
   "execution_count": null,
   "metadata": {},
   "outputs": [],
   "source": [
    "# And change the contents entirely\n",
    "\n",
    "tag.string = 'And now goodbye'\n",
    "print(tag)"
   ]
  },
  {
   "cell_type": "markdown",
   "metadata": {},
   "source": [
    "This gives us many different possibilities. One, for instance, is to automatically add `id` attributes to all the elements in a given document. Here is the algorithm to follow:\n",
    "\n",
    "1. Load in the XML file\n",
    "1. Set an ID counter to 0 (to ensure that all IDs are unique)\n",
    "1. `Find all` tags in the document to which we want to add IDs.\n",
    "1. `for` each element `in` the list that results from the previous step:\n",
    "   1. Set the `id` attribute to the value of the ID counter\n",
    "   1. Increment the value of the ID counter\n",
    "1. Save the result\n",
    "\n",
    "Try writing the code yourself. You may also want to use a different form for the ID rather than a simple number; you could, for instance, add a string as a prefix (to give IDs such as no1, no2, no3 etc.), or use something else."
   ]
  },
  {
   "cell_type": "markdown",
   "metadata": {},
   "source": [
    "# An Extended Example\n",
    "\n",
    "Let's now do an extended example of a (potential) real case. Very often in TEI files, we have internal or even external references to documents, that is, pointers from elements to other elements. The problem is that it's often very difficult to be sure that a pointer does indeed point to something, and that there isn't a mistake somewhere, and so it would be useful to have a program that can look at all the pointers and make sure that they do indeed point to something.\n",
    "\n",
    "This is what the program would need to do:\n",
    "\n",
    "1. Load in the XML file from the disk (or the internet via a URL)\n",
    "1. Create the Beautiful Soup object\n",
    "1. Create a list of all elements with pointers\n",
    "1. Create a list of elements being pointed to.\n",
    "1. For each item in the list of elements with pointers:\n",
    "   1. Check that the pointer does indeed exist in the list of elements being pointed to\n",
    "   1. If it is not there then print some sort of error\n",
    "   \n",
    "Let's try this with the [Proust Prototype](http://research.cch.kcl.ac.uk/proust_prototype/) by Elena Pierazzo and Julie André. In this case, there are `@change` attributes which should point to the `@xml:id` attributes in `change` elements. Here is how it works:"
   ]
  },
  {
   "cell_type": "code",
   "execution_count": null,
   "metadata": {
    "scrolled": true
   },
   "outputs": [],
   "source": [
    "# Store the location of the file in a variable for Python\n",
    "path = \"../Example Texts/Proust_tei_C46.xml\"\n",
    "\n",
    "# Now open the file and store the reference to the file in another variable\n",
    "inFile = open(path)\n",
    "\n",
    "# Read in the contents (and store it in yet another variable)\n",
    "fileXML = inFile.read()\n",
    "\n",
    "# Send the contents to Beautiful Soup, and store the results in another variable\n",
    "bs = BeautifulSoup(fileXML, \"xml\")\n",
    "\n",
    "# Close the original file\n",
    "inFile.close()\n",
    "\n",
    "# Select and store the list of all elements containing @change attributes\n",
    "change_list = bs.select(\"[change]\")\n",
    "\n",
    "# Let's also store the list of change IDs\n",
    "change_ids = bs.find_all(\"change\", attrs=\"xml:id\")\n",
    "\n",
    "# Print the list to show that it has worked\n",
    "print(change_list[20])\n",
    "\n",
    "print(change_ids[20])"
   ]
  },
  {
   "cell_type": "code",
   "execution_count": null,
   "metadata": {},
   "outputs": [],
   "source": [
    "# For each node in the change list:\n",
    "for c in change_list:\n",
    "\n",
    "    # Get the value of the @change attribute and store it temporarily\n",
    "    change_ids = c[\"change\"]\n",
    "    \n",
    "    print(change_ids)"
   ]
  },
  {
   "cell_type": "markdown",
   "metadata": {},
   "source": [
    "---\n",
    "![Licence Creative Commons](https://i.creativecommons.org/l/by/4.0/88x31.png)\n",
    "This work (the contents of this Jupyter Python notebook) is licenced under a [Creative Commons Attribution 4.0 International](http://creativecommons.org/licenses/by/4.0/)"
   ]
  }
 ],
 "metadata": {
  "kernelspec": {
   "display_name": "Python 3",
   "language": "python",
   "name": "python3"
  },
  "language_info": {
   "codemirror_mode": {
    "name": "ipython",
    "version": 3
   },
   "file_extension": ".py",
   "mimetype": "text/x-python",
   "name": "python",
   "nbconvert_exporter": "python",
   "pygments_lexer": "ipython3",
   "version": "3.7.3"
  }
 },
 "nbformat": 4,
 "nbformat_minor": 2
}
