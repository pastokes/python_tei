{
 "cells": [
  {
   "cell_type": "markdown",
   "metadata": {},
   "source": [
    "**By Peter A. Stokes, École Pratique des Hautes Études – Université PSL**\n",
    "\n",
    "_These are brief notes and exercises on working with TEI XML files using Python. They are intended as teaching aids for the course on 'Image Processing with Python' which is part of the Atelier de formation annuel du Consortium Cahier on the topic of 'Exploiter les corpus d'auteurs' in Poitiers, 18--20 June 2019. For more details see https://cahier.hypotheses.org/4662_\n",
    "\n",
    "These notes assume a good knowledge of TEI XML but assume **no experience or knowledge at all** in programming.\n",
    "\n",
    "_If you are viewing this in Jupyter then you can edit the code simply by typing in the boxes. You can also execute the code in any box by clicking on the box and typing SHIFT + ENTER or using the 'Run' button in the menubar above._"
   ]
  },
  {
   "cell_type": "markdown",
   "metadata": {},
   "source": [
    "# Python basics\n",
    "\n",
    "This section gives a very brief summary of the basics of the Python 3 programming language. If you already know Python 3 then you can skip this section. If you know an earlier version of Python such as Python 2.7, then you can also skip this section, but be aware that `print 'hello'` is no longer valid: in Python 3 you must always include the parentheses, so `print('hello')` instead."
   ]
  },
  {
   "cell_type": "markdown",
   "metadata": {},
   "source": [
    "## Variables\n",
    "\n",
    "To create a new variable for storing data in memory, simply provide a unique name for that variable and use `=` to assign the content. Note that you can re-assign different content to an existing variable, in which case the new content will simply replace the old (hence the name 'variable'). You can have as many different variables as you like, as long as your computer doesn't run out of RAM. This is unlikely with modern computers, but it is possible if you have very large images.\n",
    "\n",
    "Notice also the `#` symbol. This is to signal a 'comment': i.e. everything after `#` on that line is a comment for us humans to read and so will be ignored by Python. It is very good practice to add comments as a reminder to you and a message to others of what your code does. You will be grateful when you come back to your code in a year's time!"
   ]
  },
  {
   "cell_type": "code",
   "execution_count": 6,
   "metadata": {},
   "outputs": [
    {
     "name": "stdout",
     "output_type": "stream",
     "text": [
      "4.0\n",
      "2.0\n",
      "8.0\n"
     ]
    }
   ],
   "source": [
    "a = 1      # Stores the integer (whole number) value 1 in the variable a\n",
    "b = 2.0    # Stores the decimal value 2.0 in the variable b\n",
    "\n",
    "c = a + b  # Stores the decimal value 3.0 (1 + 2.0) in the variable c\n",
    "c = c + 1  # Stores the decimal value 4.0 (3.0 + 1) in the variable c\n",
    "\n",
    "d = c / b  # Stores the decimal value of c divided by b into the variable d\n",
    "e = b * c  # Stores the decimal value of b multiplied by c into the variable f\n",
    "\n",
    "print(c)   # Prints the value currently stored in c (i.e. 4)\n",
    "print(d)\n",
    "print(e)\n"
   ]
  },
  {
   "cell_type": "markdown",
   "metadata": {},
   "source": [
    "Variables do not have to contain numbers but they can contain many things, including images (as we will see soon). Another common type of data is a string, namely a series of characters:"
   ]
  },
  {
   "cell_type": "code",
   "execution_count": 7,
   "metadata": {},
   "outputs": [
    {
     "name": "stdout",
     "output_type": "stream",
     "text": [
      "This is a string. It must be enclosed in single quotes.\n",
      "The single quotes tell Python that it is a string.\n",
      "Otherwise, Python might think that it is the name of a variable.\n",
      "You can also print a string directly without storing it first.\n",
      "This is a string. It must be enclosed in single quotes. The single quotes tell Python that it is a string. Otherwise, Python might think that it is the name of a variable.\n"
     ]
    }
   ],
   "source": [
    "s1 = 'This is a string. It must be enclosed in single quotes.'\n",
    "s2 = 'The single quotes tell Python that it is a string.'\n",
    "s3 = 'Otherwise, Python might think that it is the name of a variable.'\n",
    "\n",
    "print(s1)\n",
    "print(s2)\n",
    "print(s3)\n",
    "\n",
    "print('You can also print a string directly without storing it first.')\n",
    "print(s1, s2, s3) # Notice what happens here"
   ]
  },
  {
   "cell_type": "markdown",
   "metadata": {},
   "source": [
    "## Libraries\n",
    "\n",
    "If you want to use a library of existing code then you **must** first tell Python to load it into your system **before** you use the library code. You can import an entire library, but normally you only import specific parts from that library. For this you use the `import` or `from ... import` command. You can also add `as` to give the library a short name if you want, as we do in the example below: `matplotlib.pyplot` is a pain to type so we give it the name `plt` for short. These are the libraries that we will be using today:"
   ]
  },
  {
   "cell_type": "code",
   "execution_count": 8,
   "metadata": {},
   "outputs": [],
   "source": [
    "from PIL import Image\n",
    "from PIL import ImageOps\n",
    "from PIL import ImageChops\n",
    "import matplotlib.pyplot as plt"
   ]
  },
  {
   "cell_type": "markdown",
   "metadata": {},
   "source": [
    "## Lists\n",
    "\n",
    "Lists are a more complex type of data, but one that is very useful as it allows us to store a list of things in a single variable. To do this we use square brackets, with the contents of the list in the brackets separated by commas. We can have lists of anything we want: integers, decimal numbers, strings, images, ..."
   ]
  },
  {
   "cell_type": "code",
   "execution_count": 9,
   "metadata": {},
   "outputs": [
    {
     "name": "stdout",
     "output_type": "stream",
     "text": [
      "[1, 2, 3, 4, 5, 6, 7, 8, 9]\n",
      "[1.0, 2.6, 3.3, 4.7, 5.1, 6.7]\n",
      "['a', 'b', 'c', 'd', 'e']\n",
      "['bonjour', 'au revoir', 'ça va ?', 'très bien']\n"
     ]
    }
   ],
   "source": [
    "list1 = [1, 2, 3, 4, 5, 6, 7, 8, 9]\n",
    "list2 = [1.0, 2.6, 3.3, 4.7, 5.1, 6.7]\n",
    "list3 = ['a', 'b', 'c', 'd', 'e']\n",
    "list4 = ['bonjour', 'au revoir', 'ça va ?', 'très bien']\n",
    "\n",
    "print(list1)\n",
    "print(list2)\n",
    "print(list3)\n",
    "print(list4)"
   ]
  },
  {
   "cell_type": "markdown",
   "metadata": {},
   "source": [
    "At times we may want to access specific items in the list. To do this we use the following system:"
   ]
  },
  {
   "cell_type": "code",
   "execution_count": 10,
   "metadata": {},
   "outputs": [
    {
     "name": "stdout",
     "output_type": "stream",
     "text": [
      "1\n",
      "6.7\n",
      "['a', 'b', 'c']\n",
      "['a', 'b', 'c']\n",
      "['ça va ?', 'très bien']\n",
      "[3, 4, 5]\n"
     ]
    }
   ],
   "source": [
    "list1[0]      # Gives us the first item in the list.\n",
    "list2[-1]     # Gives us the last item in the list\n",
    "list3[0:3]    # Gives us the first three items in the list\n",
    "list3[:3]     # Also gives us the first three items in the list\n",
    "list4[-3:]    # Gives us the last three items in the list\n",
    "list1[2:5]    # Gives us the third (!) through fifth items in the list\n",
    "\n",
    "# Let's test it:\n",
    "print(list1[0])      # Gives us the first item in the list.\n",
    "print(list2[-1])     # Gives us the last item in the list\n",
    "print(list3[0:3])    # Gives us the first three items in the list\n",
    "print(list3[:3])     # Also gives us the first three items in the list\n",
    "print(list4[-2:])    # Gives us the last two items in the list\n",
    "print(list1[2:5])    # Gives us the third (!) through fifth items in the list\n",
    "\n"
   ]
  },
  {
   "cell_type": "markdown",
   "metadata": {},
   "source": [
    "## Loops\n",
    "\n",
    "One of programming's biggest strengths is being able to do things again and again, automatically and very quickly. To do this, we need to use loops: that is, we tell Python:\n",
    "\n",
    "For every item i in a list l:\n",
    "   * Do this\n",
    "   * Do that\n",
    "   * Etc.\n",
    "\n",
    "Let's demonstrate this with a simple list. Let's say we want to do the following:\n",
    "\n",
    "1. Create a list of five numbers and save it in a variable.\n",
    "1. `For` each number `in` the list:\n",
    "   1. Add ten to it\n",
    "   1. Print it out\n",
    "1. After we've gone through the whole list then print a message (\"Finished!\")\n",
    "   \n",
    "This is what the code looks like:"
   ]
  },
  {
   "cell_type": "code",
   "execution_count": 11,
   "metadata": {},
   "outputs": [
    {
     "name": "stdout",
     "output_type": "stream",
     "text": [
      "12\n",
      "14\n",
      "16\n",
      "18\n",
      "20\n",
      "Finished!\n"
     ]
    }
   ],
   "source": [
    "list = [2, 4, 6, 8, 10]\n",
    "\n",
    "for n in list:\n",
    "    temp = n + 10\n",
    "    print(temp)\n",
    "    \n",
    "print(\"Finished!\")"
   ]
  },
  {
   "cell_type": "markdown",
   "metadata": {},
   "source": [
    "# Reading a File from Disk\n",
    "\n",
    "Another useful task is to read in a file from disk. There are various ways of doing this, but the easiest for us is to use two functions, `open()` to create a connection between Python and the file, and then `read()` to read in the contents. More specfically, the steps are as follows:\n",
    "\n",
    "1. Tell Python where the file is located, relative to our current location in the file system. The best way to do this is to store it in memory where we can find it again later. To do this we need to give our location a name so that we can find it again; here I have chosen to call it `path`.\n",
    "1. Open the file at location `path`. To do this we use the Python command `open()`, and we tell Python that we want to `r`ead the contents (as opposed to `w`riting to the file). Again, we need to store the reference to the open file somewhere so we can get it again; I have chosen to call it `inFile`.\n",
    "1. Read in the contents of the file (using `read()`) and store it in memory. Here I have chosen to call it `fileXML`.\n",
    "1. Tell the operating system to `close` the file. This isn't essential but is good practice as the Operating System can then free up memory, allow another program to access the file and so on, which would be important in a big online system, for instance.\n",
    "\n",
    "Now we can do something with our file. To test it, let's try reading in an XML file in the 'Examples' folder: "
   ]
  },
  {
   "cell_type": "code",
   "execution_count": 12,
   "metadata": {},
   "outputs": [
    {
     "name": "stdout",
     "output_type": "stream",
     "text": [
      "<?xml version=\"1.0\" encoding=\"UTF-8\"?>\n",
      "<TEI><teiHeader facs=\"302-1-3-063.jpg\"><fileDesc><seriesStmt><biblScope unit=\"cote\">302</biblScope><biblScope unit=\"numero_ordre_dans_registre\">60</biblScope><biblScope unit=\"numero_page\">395</biblScope><biblScope unit=\"volume\">1, tome 3</biblScope></seriesStmt><sourceDesc><msDesc type=\"recto\"><physDesc><handDesc><handNote scribe=\"\"/></handDesc><objectDesc><supportDesc><support>feuille_pliee</support><dimensions><height>219</height><width>172</width></dimen\n"
     ]
    }
   ],
   "source": [
    "# Store the location of the file in a variable for Python\n",
    "path = \"../Example Texts/302-1-3-063.tei.xml\"\n",
    "\n",
    "# Now open the file and store the reference to the file in another variable\n",
    "in_file = open(path, \"r\")\n",
    "\n",
    "# Read in the contents (and store it in yet another variable)\n",
    "fileXML = in_file.read()\n",
    "\n",
    "# Close the connection to the file on disk\n",
    "in_file.close()\n",
    "\n",
    "# Now print out the first 500 characters of the file contents to show that it worked\n",
    "print(fileXML[0:500])"
   ]
  },
  {
   "cell_type": "markdown",
   "metadata": {},
   "source": [
    "# Reading a Text File from the Web\n",
    "\n",
    "This is useful, but often we want to read a file directly from the Web. This could be an HTML file, a JSON file, XML, TXT, and so on. The procedure is very similar to reading from the disk, but we have to `import` a module called `urllib` first. Here are the steps:\n",
    "\n",
    "1. Tell Python the URL of our file. The best way to do this again is to store it in memory where we can find it later. To do this we need to give our location a name so that we can find it again; here I have chosen to call it path.\n",
    "1. Open a connection to the file at the URL. To do this we use the Python command `urllib.request.open()`. Again, we need to store the reference to the open connection somewhere so we can get it again; I have chosen to call it conn.\n",
    "1. Read in the contents of the file (using `read()`) and store it in memory. Here I have chosen to call it fileXML.\n",
    "1. Tell the operating system to close the connection. This isn't essential but is good practice as the Operating System can then free up memory which would be important in a big online system, for instance.\n",
    "\n",
    "And here is an example that downloads Book 1 of _Le comte de Monte Cristo_ from Project Gutenberg:"
   ]
  },
  {
   "cell_type": "code",
   "execution_count": 13,
   "metadata": {},
   "outputs": [
    {
     "name": "stdout",
     "output_type": "stream",
     "text": [
      "b\"\\xbb\\xbfProject Gutenberg's Le comte de Monte-Cristo, Tome I, by Alexandre Dumas\\r\\n\\r\\nThis eBook is for the\"\n"
     ]
    }
   ],
   "source": [
    "# Import the url library so that we can use it to connect to the Web.\n",
    "import urllib.request\n",
    "\n",
    "# Save the URL of the file we want to download\n",
    "url = \"http://www.gutenberg.org/cache/epub/17989/pg17989.txt\"\n",
    "\n",
    "# Open a connection to the URL\n",
    "conn = urllib.request.urlopen(url)\n",
    "\n",
    "# Read the text into memory and store it in a variable\n",
    "text = conn.read()\n",
    "\n",
    "# Close the connection\n",
    "conn.close()\n",
    "\n",
    "# Now print the first 100 characters to see that it worked\n",
    "print(text[1:100])"
   ]
  },
  {
   "cell_type": "markdown",
   "metadata": {},
   "source": [
    "**Note that this method is for text and text-like files only**. We will see later that downloading images from the Web is a little bit different."
   ]
  },
  {
   "cell_type": "markdown",
   "metadata": {},
   "source": [
    "# Saving Files to Disk\n",
    "\n",
    "Often we also want to save our work to the disk, so that we can use it later, or send it to another programme or a colleague, or any other reason. The basic process is similar to reading a file, but with some minor differences. Here is the procedure:\n",
    "\n",
    "1. Tell Python where we want the file to be located, relative to our current location in the file system. The best way to do this is to store it in memory where we can find it again later. To do this we need to give our location a name so that we can find it again; here I have chosen to call it `path`.\n",
    "1. Open the file at location `path`. To do this we use the Python command `open()`, and we tell Python that we want to `w`rite the data to the file (as opposed to `r`eading the contents from the file). Again, we need to store the reference to the open file somewhere so we can get it again; I have chosen to call it `inFile`.\n",
    "1. Write out the contents to the file (using `write()`).\n",
    "1. Tell the operating system to `close` the file. This **is** normally essential, as it tells the system that no new data will be added and so the file system can do what is necessary to complete the file.\n",
    "\n",
    "As an example, let's save a message in a file:"
   ]
  },
  {
   "cell_type": "code",
   "execution_count": 14,
   "metadata": {},
   "outputs": [],
   "source": [
    "file = \"test_file.txt\"\n",
    "\n",
    "out_file = open(file, \"w\")\n",
    "\n",
    "out_file.write(\"Bonjour, voici mon premier fichier crée avec Python !\")\n",
    "\n",
    "out_file.close()"
   ]
  },
  {
   "cell_type": "markdown",
   "metadata": {},
   "source": [
    "Have a look in your file-system: you should now find a file called `test_file.txt` in your directory, with the message inside it.\n",
    "\n",
    "**Warning: be very careful creating files!** If you create a new file with the same path as an existing file, then **your existing file will automatically be deleted and overwritten with the new file**.\n",
    "\n",
    "**Warning: be very careful looping with files!** It's very easy to create loops accidentally which write hundreds or thousands or millions of new files, potentially very large ones, and this can overload your system or even fill your hard disk.\n",
    "\n",
    "**Be sure to test your code very carefully before writing files to disk!**"
   ]
  },
  {
   "cell_type": "markdown",
   "metadata": {},
   "source": [
    "---\n",
    "![Licence Creative Commons](https://i.creativecommons.org/l/by/4.0/88x31.png)\n",
    "This work (the contents of this Jupyter Python notebook) is licenced under a [Creative Commons Attribution 4.0 International](http://creativecommons.org/licenses/by/4.0/)"
   ]
  }
 ],
 "metadata": {
  "kernelspec": {
   "display_name": "Python 3",
   "language": "python",
   "name": "python3"
  },
  "language_info": {
   "codemirror_mode": {
    "name": "ipython",
    "version": 3
   },
   "file_extension": ".py",
   "mimetype": "text/x-python",
   "name": "python",
   "nbconvert_exporter": "python",
   "pygments_lexer": "ipython3",
   "version": "3.7.3"
  }
 },
 "nbformat": 4,
 "nbformat_minor": 2
}
